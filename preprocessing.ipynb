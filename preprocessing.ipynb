{
 "cells": [
  {
   "cell_type": "code",
   "execution_count": 2,
   "id": "ce22bee2",
   "metadata": {},
   "outputs": [],
   "source": [
    "import pandas as pd\n",
    "df = pd.read_csv('5. Communication_Data_Among_Users.csv')\n",
    "Message = df['Message']\n",
    "Label = df['Label']"
   ]
  },
  {
   "cell_type": "code",
   "execution_count": 3,
   "id": "7ec19e4f",
   "metadata": {},
   "outputs": [],
   "source": [
    "import numpy as np\n",
    "\n",
    "def loadGloveEmbeddings(path):\n",
    "    embeddings = {}\n",
    "    with open(path, 'r', encoding='utf-8') as f:\n",
    "        for line in f:\n",
    "            parts = line.strip().split()\n",
    "            word = parts[0]\n",
    "            vector = np.array(parts[1:], dtype=np.float32)\n",
    "            embeddings[word] = vector\n",
    "        return embeddings\n",
    "\n",
    "glove_embeddings = loadGloveEmbeddings('glove.6B.100d.txt')"
   ]
  },
  {
   "cell_type": "code",
   "execution_count": 4,
   "id": "2f2df575",
   "metadata": {},
   "outputs": [],
   "source": [
    "import spacy\n",
    "\n",
    "nlp = spacy.load('en_core_web_sm')\n",
    "def lemmatize(message):\n",
    "    doc = nlp(message.lower())\n",
    "    lemmatize_tokens = [token.lemma_ for token in doc if not token.is_punct and not token.is_space]\n",
    "    return lemmatize_tokens\n"
   ]
  },
  {
   "cell_type": "code",
   "execution_count": 9,
   "id": "0307d240",
   "metadata": {},
   "outputs": [],
   "source": [
    "from collections import Counter\n",
    "\n",
    "all_tokens = [token for msg in Message for token in lemmatize(msg)]\n",
    "vocab = [\"<PAD>\", \"<UNK>\"] + list(dict(Counter(all_tokens)).keys())\n",
    "word_index = {word: index for index, word in enumerate(vocab)}\n",
    "\n",
    "def encode(message):\n",
    "    tokens = lemmatize(message)\n",
    "    encoded = [word_index.get(token, 1) for token in tokens]\n",
    "    return encoded\n",
    "encoded_messages = [encode(msg) for msg in Message]"
   ]
  },
  {
   "cell_type": "code",
   "execution_count": null,
   "id": "a09679b9",
   "metadata": {},
   "outputs": [],
   "source": [
    "encoded = pd.Series(encoded_messages)\n",
    "pd.concat([encoded, Label], axis=1).to_csv('encoded_messages.csv', index=False)\n",
    "pd.DataFrame(word_index.items()).to_csv('word_index.csv', index=False)"
   ]
  }
 ],
 "metadata": {
  "kernelspec": {
   "display_name": "Python 3",
   "language": "python",
   "name": "python3"
  },
  "language_info": {
   "codemirror_mode": {
    "name": "ipython",
    "version": 3
   },
   "file_extension": ".py",
   "mimetype": "text/x-python",
   "name": "python",
   "nbconvert_exporter": "python",
   "pygments_lexer": "ipython3",
   "version": "3.11.2"
  }
 },
 "nbformat": 4,
 "nbformat_minor": 5
}
