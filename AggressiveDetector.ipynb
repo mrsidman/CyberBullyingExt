{
  "nbformat": 4,
  "nbformat_minor": 0,
  "metadata": {
    "colab": {
      "provenance": [],
      "mount_file_id": "19gGiR1jT2Y92Is2O3xMvzLYV_6KvVm-J",
      "authorship_tag": "ABX9TyNLuddF1cBO3MGuNq4twJFa",
      "include_colab_link": true
    },
    "kernelspec": {
      "name": "python3",
      "display_name": "Python 3"
    },
    "language_info": {
      "name": "python"
    }
  },
  "cells": [
    {
      "cell_type": "markdown",
      "metadata": {
        "id": "view-in-github",
        "colab_type": "text"
      },
      "source": [
        "<a href=\"https://colab.research.google.com/github/mrsidman/CyberBullyingExt/blob/main/AggressiveDetector.ipynb\" target=\"_parent\"><img src=\"https://colab.research.google.com/assets/colab-badge.svg\" alt=\"Open In Colab\"/></a>"
      ]
    },
    {
      "cell_type": "code",
      "execution_count": 2,
      "metadata": {
        "colab": {
          "base_uri": "https://localhost:8080/"
        },
        "collapsed": true,
        "id": "kaa1eQHwSppQ",
        "outputId": "8604a807-b12e-4497-94be-31b3c03225f0"
      },
      "outputs": [
        {
          "output_type": "stream",
          "name": "stdout",
          "text": [
            "Cloning into 'CyberBullyingExt'...\n",
            "remote: Enumerating objects: 15, done.\u001b[K\n",
            "remote: Counting objects: 100% (15/15), done.\u001b[K\n",
            "remote: Compressing objects: 100% (12/12), done.\u001b[K\n",
            "remote: Total 15 (delta 3), reused 7 (delta 1), pack-reused 0 (from 0)\u001b[K\n",
            "Receiving objects: 100% (15/15), 20.59 MiB | 12.24 MiB/s, done.\n",
            "Resolving deltas: 100% (3/3), done.\n",
            "/content/CyberBullyingExt\n"
          ]
        }
      ],
      "source": [
        "!git clone https://github.com/mrsidman/CyberBullyingExt.git\n",
        "%cd CyberBullyingExt\n",
        "\n",
        "import pandas as pd\n",
        "\n",
        "df = pd.read_csv('encoded_messages.csv')\n",
        "messages = df['0']\n",
        "labels = df['Label']\n"
      ]
    },
    {
      "cell_type": "code",
      "source": [
        "df = pd.read_csv('word_index.csv')\n",
        "word_index = dict(zip(df.iloc[:, 0], df.iloc[:, 1]))\n",
        "print(list(word_index.items())[:10])"
      ],
      "metadata": {
        "colab": {
          "base_uri": "https://localhost:8080/"
        },
        "id": "XwLH9swiYtZa",
        "outputId": "e67403d6-60a4-44ec-f61f-f07d0338fa30"
      },
      "execution_count": 3,
      "outputs": [
        {
          "output_type": "stream",
          "name": "stdout",
          "text": [
            "[('<PAD>', 0), ('<UNK>', 1), ('bye', 2), ('dear', 3), ('bajaj', 4), ('I', 5), ('get', 6), ('some', 7), ('well', 8), ('work', 9)]\n"
          ]
        }
      ]
    },
    {
      "cell_type": "code",
      "source": [
        "!wget http://nlp.stanford.edu/data/glove.6B.zip\n",
        "!unzip glove.6B.zip"
      ],
      "metadata": {
        "colab": {
          "base_uri": "https://localhost:8080/"
        },
        "id": "c12Nd8MtZ9Hf",
        "outputId": "a0b95365-36d4-40d5-8e00-1201fa4a87dc"
      },
      "execution_count": 4,
      "outputs": [
        {
          "output_type": "stream",
          "name": "stdout",
          "text": [
            "--2025-06-26 16:51:48--  http://nlp.stanford.edu/data/glove.6B.zip\n",
            "Resolving nlp.stanford.edu (nlp.stanford.edu)... 171.64.67.140\n",
            "Connecting to nlp.stanford.edu (nlp.stanford.edu)|171.64.67.140|:80... connected.\n",
            "HTTP request sent, awaiting response... 302 Found\n",
            "Location: https://nlp.stanford.edu/data/glove.6B.zip [following]\n",
            "--2025-06-26 16:51:48--  https://nlp.stanford.edu/data/glove.6B.zip\n",
            "Connecting to nlp.stanford.edu (nlp.stanford.edu)|171.64.67.140|:443... connected.\n",
            "HTTP request sent, awaiting response... 301 Moved Permanently\n",
            "Location: https://downloads.cs.stanford.edu/nlp/data/glove.6B.zip [following]\n",
            "--2025-06-26 16:51:49--  https://downloads.cs.stanford.edu/nlp/data/glove.6B.zip\n",
            "Resolving downloads.cs.stanford.edu (downloads.cs.stanford.edu)... 171.64.64.22\n",
            "Connecting to downloads.cs.stanford.edu (downloads.cs.stanford.edu)|171.64.64.22|:443... connected.\n",
            "HTTP request sent, awaiting response... 200 OK\n",
            "Length: 862182613 (822M) [application/zip]\n",
            "Saving to: ‘glove.6B.zip’\n",
            "\n",
            "glove.6B.zip        100%[===================>] 822.24M  5.02MB/s    in 2m 39s  \n",
            "\n",
            "2025-06-26 16:54:29 (5.17 MB/s) - ‘glove.6B.zip’ saved [862182613/862182613]\n",
            "\n",
            "Archive:  glove.6B.zip\n",
            "  inflating: glove.6B.50d.txt        \n",
            "  inflating: glove.6B.100d.txt       \n",
            "  inflating: glove.6B.200d.txt       \n",
            "  inflating: glove.6B.300d.txt       \n"
          ]
        }
      ]
    },
    {
      "cell_type": "code",
      "source": [
        "print(messages.head())"
      ],
      "metadata": {
        "colab": {
          "base_uri": "https://localhost:8080/"
        },
        "id": "5zUrTgG5eP4P",
        "outputId": "0bb0365d-8236-4651-fe8d-1cf9edad57b2"
      },
      "execution_count": 5,
      "outputs": [
        {
          "output_type": "stream",
          "name": "stdout",
          "text": [
            "0    [2, 2, 3, 4, 5, 6, 7, 8, 9, 10, 11, 12, 13, 14...\n",
            "1    [18, 19, 20, 15, 21, 22, 23, 24, 25, 26, 27, 2...\n",
            "2    [35, 36, 30, 37, 38, 39, 33, 40, 41, 42, 43, 4...\n",
            "3                                             [61, 62]\n",
            "4    [8, 30, 44, 21, 63, 64, 65, 66, 10, 67, 25, 68...\n",
            "Name: 0, dtype: object\n"
          ]
        }
      ]
    },
    {
      "cell_type": "code",
      "source": [
        "import torch\n",
        "import numpy as np\n",
        "from torch.nn.utils.rnn import pad_sequence\n",
        "import ast\n",
        "\n",
        "maxlen = int(np.percentile([len(seq) for seq in messages], 95))\n",
        "\n",
        "padded_message = pad_sequence([torch.tensor(ast.literal_eval(seq), dtype=torch.long) for seq in messages], batch_first=True, padding_value=word_index['<PAD>'])"
      ],
      "metadata": {
        "collapsed": true,
        "id": "6UafDPJsc7dS"
      },
      "execution_count": 6,
      "outputs": []
    },
    {
      "cell_type": "code",
      "source": [
        "glove = {}\n",
        "with open(\"glove.6B.100d.txt\", 'r', encoding=\"utf-8\") as f:\n",
        "    for line in f:\n",
        "        values = line.split()\n",
        "        word = values[0]\n",
        "        vector = np.asarray(values[1:], dtype='float32')\n",
        "        glove[word] = vector\n",
        "\n",
        "embedding_matrx = np.zeros((len(word_index) + 1, 100))\n",
        "\n",
        "for word, index in word_index.items():\n",
        "  if word in glove:\n",
        "    embedding_matrx[index] = glove[word]"
      ],
      "metadata": {
        "id": "zjbw3d5kfj_p"
      },
      "execution_count": 7,
      "outputs": []
    },
    {
      "cell_type": "code",
      "source": [
        "import torch.nn as nn\n",
        "import torch\n",
        "\n",
        "class Classifier(nn.Module):\n",
        "    def __init__(self, embedding_matrix, hidden_dim, output_dim):\n",
        "        super().__init__()\n",
        "        num_embeddings, embedding_dim = embedding_matrix.shape\n",
        "        self.embedding = nn.Embedding.from_pretrained(\n",
        "            torch.FloatTensor(embedding_matrix),\n",
        "            freeze=True,\n",
        "            padding_idx=word_index['<PAD>']\n",
        "        )\n",
        "        self.rnn = nn.LSTM(\n",
        "            embedding_dim,\n",
        "            hidden_dim,\n",
        "            batch_first=True,\n",
        "            bidirectional=True,\n",
        "            num_layers=2,\n",
        "            dropout=0.2\n",
        "        )\n",
        "        self.fc = nn.Linear(2 * hidden_dim, output_dim)\n",
        "        self.dropout = nn.Dropout(0.4)\n",
        "\n",
        "    def forward(self, x):\n",
        "        x = self.embedding(x)\n",
        "        output, (hidden, cell) = self.rnn(x)\n",
        "        h_cat = torch.cat((hidden[0], hidden[1]), dim=1)\n",
        "        h_cat = self.dropout(h_cat)\n",
        "        x = self.fc(h_cat)\n",
        "        return x\n"
      ],
      "metadata": {
        "id": "Sre_sc7ti_oa"
      },
      "execution_count": 29,
      "outputs": []
    },
    {
      "cell_type": "code",
      "source": [
        "from sklearn.model_selection import train_test_split\n",
        "\n",
        "X_train, X_temp, y_train, y_temp = train_test_split(padded_message, labels, test_size=0.2, random_state=42)\n",
        "X_val, X_test, y_val, y_test = train_test_split(X_temp, y_temp, test_size=0.5, random_state=42)"
      ],
      "metadata": {
        "id": "gfO8wNJpmoLs"
      },
      "execution_count": 9,
      "outputs": []
    },
    {
      "cell_type": "code",
      "source": [
        "from torch.utils.data import DataLoader, TensorDataset\n",
        "import torch\n",
        "\n",
        "batch_size = 32\n",
        "hidden_size = 128\n",
        "output_size = 1\n",
        "\n",
        "y_train_tensor = torch.from_numpy(y_train.values).float()\n",
        "y_val_tensor = torch.from_numpy(y_val.values).float()\n",
        "y_test_tensor = torch.from_numpy(y_test.values).float()\n",
        "\n",
        "train_dataset = TensorDataset(X_train, y_train_tensor)\n",
        "val_dataset = TensorDataset(X_val, y_val_tensor)\n",
        "test_dataset = TensorDataset(X_test, y_test_tensor)\n",
        "\n",
        "train_loader = DataLoader(train_dataset, batch_size=batch_size, shuffle=True)\n",
        "val_loader = DataLoader(val_dataset, batch_size=batch_size, shuffle=False)\n",
        "test_loader = DataLoader(test_dataset, batch_size=batch_size, shuffle=False)"
      ],
      "metadata": {
        "id": "Bbsu4P3Am1O8"
      },
      "execution_count": 33,
      "outputs": []
    },
    {
      "cell_type": "code",
      "source": [
        "learning_rate = 1e-3\n",
        "num_epochs = 100\n",
        "\n",
        "device = torch.device('cuda' if torch.cuda.is_available() else 'cpu')\n",
        "model = Classifier(embedding_matrx, hidden_size, output_size).to(device)\n",
        "criterion = nn.BCEWithLogitsLoss()\n",
        "optimizer = torch.optim.Adam(model.parameters(), lr=learning_rate, weight_decay=1e-4)\n",
        "scheduler = torch.optim.lr_scheduler.ReduceLROnPlateau(optimizer, 'min', 0.1, 5)\n",
        "\n",
        "min_val_loss = float('inf')\n",
        "count = 0\n",
        "for epoch in range(num_epochs):\n",
        "  model.train()\n",
        "  train_loss = 0\n",
        "  for inputs, labels in train_loader:\n",
        "    inputs = inputs.to(device)\n",
        "    labels = labels.unsqueeze(1)\n",
        "    labels = labels.to(device)\n",
        "    outputs = model(inputs)\n",
        "    loss = criterion(outputs, labels)\n",
        "    optimizer.zero_grad()\n",
        "    loss.backward()\n",
        "    optimizer.step()\n",
        "    train_loss += loss.item()\n",
        "  train_loss /= len(train_loader)\n",
        "\n",
        "  model.eval()\n",
        "  with torch.no_grad():\n",
        "    val_loss = 0\n",
        "    for inputs, labels in val_loader:\n",
        "      inputs = inputs.to(device)\n",
        "      labels = labels.unsqueeze(1)\n",
        "      labels = labels.to(device)\n",
        "      outputs = model(inputs)\n",
        "      loss = criterion(outputs, labels)\n",
        "      val_loss += loss.item()\n",
        "    val_loss /= len(val_loader)\n",
        "\n",
        "    if val_loss < min_val_loss:\n",
        "      min_val_loss = val_loss\n",
        "      count = 0\n",
        "      import os\n",
        "      if not os.path.exists('/content/CyberBullyingExt/models'):\n",
        "          os.makedirs('/content/CyberBullyingExt/models')\n",
        "      torch.save(model.state_dict(), '/content/CyberBullyingExt/models/best_model.pth')\n",
        "    else:\n",
        "      count += 1\n",
        "    if count == 10:\n",
        "      print(\"Early stopping triggered.\")\n",
        "      break\n",
        "    scheduler.step(val_loss)\n",
        "  print(f'Epoch {epoch+1}/{num_epochs}, Train Loss: {train_loss:.4f}, Val Loss: {val_loss:.4f}')"
      ],
      "metadata": {
        "colab": {
          "base_uri": "https://localhost:8080/"
        },
        "id": "21gXLg3Hp5vU",
        "outputId": "233c468a-bf2f-4fe8-8868-bb1eeaded90b"
      },
      "execution_count": null,
      "outputs": [
        {
          "output_type": "stream",
          "name": "stdout",
          "text": [
            "Epoch 1/100, Train Loss: 0.3884, Val Loss: 0.3577\n",
            "Epoch 2/100, Train Loss: 0.3393, Val Loss: 0.3701\n",
            "Epoch 3/100, Train Loss: 0.3243, Val Loss: 0.3271\n",
            "Epoch 4/100, Train Loss: 0.3134, Val Loss: 0.3133\n",
            "Epoch 5/100, Train Loss: 0.3057, Val Loss: 0.3141\n",
            "Epoch 6/100, Train Loss: 0.2950, Val Loss: 0.3059\n",
            "Epoch 7/100, Train Loss: 0.2884, Val Loss: 0.3039\n",
            "Epoch 8/100, Train Loss: 0.2839, Val Loss: 0.3130\n",
            "Epoch 9/100, Train Loss: 0.2773, Val Loss: 0.3040\n",
            "Epoch 10/100, Train Loss: 0.2715, Val Loss: 0.3026\n",
            "Epoch 11/100, Train Loss: 0.2660, Val Loss: 0.3126\n",
            "Epoch 12/100, Train Loss: 0.2590, Val Loss: 0.2969\n",
            "Epoch 13/100, Train Loss: 0.2548, Val Loss: 0.3139\n",
            "Epoch 14/100, Train Loss: 0.2492, Val Loss: 0.3073\n",
            "Epoch 15/100, Train Loss: 0.2453, Val Loss: 0.3027\n",
            "Epoch 16/100, Train Loss: 0.2399, Val Loss: 0.3042\n"
          ]
        }
      ]
    }
  ]
}